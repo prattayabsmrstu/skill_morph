{
  "nbformat": 4,
  "nbformat_minor": 0,
  "metadata": {
    "colab": {
      "provenance": [],
      "authorship_tag": "ABX9TyOOdw25NmXIxa4nMoRAKvcd",
      "include_colab_link": true
    },
    "kernelspec": {
      "name": "python3",
      "display_name": "Python 3"
    },
    "language_info": {
      "name": "python"
    }
  },
  "cells": [
    {
      "cell_type": "markdown",
      "metadata": {
        "id": "view-in-github",
        "colab_type": "text"
      },
      "source": [
        "<a href=\"https://colab.research.google.com/github/prattayabsmrstu/skill_morph/blob/homework/homework.ipynb\" target=\"_parent\"><img src=\"https://colab.research.google.com/assets/colab-badge.svg\" alt=\"Open In Colab\"/></a>"
      ]
    },
    {
      "cell_type": "code",
      "execution_count": 3,
      "metadata": {
        "colab": {
          "base_uri": "https://localhost:8080/"
        },
        "id": "Z130Hd4aE0gl",
        "outputId": "e22ea51c-7d17-4c6c-f8b8-c121c0367e7b"
      },
      "outputs": [
        {
          "output_type": "stream",
          "name": "stdout",
          "text": [
            "hello world\n"
          ]
        }
      ],
      "source": [
        "print(\"hello world\")"
      ]
    },
    {
      "cell_type": "code",
      "source": [
        "#Task 2.1\n",
        "Name= \"Prattaya Chakrabortty\"\n",
        "Age= 29\n",
        "Favourite_Colour= \"Light Green\"\n",
        "print(\"Name:\", Name)\n",
        "print(\"Age:\", Age)\n",
        "print(\"Favourite Colour:\", Favourite_Colour)"
      ],
      "metadata": {
        "colab": {
          "base_uri": "https://localhost:8080/"
        },
        "id": "UE2KS8GGFnnn",
        "outputId": "2325aeeb-2939-4059-8f6e-c85cac762ff7"
      },
      "execution_count": 8,
      "outputs": [
        {
          "output_type": "stream",
          "name": "stdout",
          "text": [
            "Name: Prattaya Chakrabortty\n",
            "Age: 29\n",
            "Favourite Colour: Light Green\n"
          ]
        }
      ]
    },
    {
      "cell_type": "code",
      "source": [
        "#Task 2.2\n",
        "Name= \"Prattaya\"\n",
        "Age= 29\n",
        "Fav_Number= 3.1416\n",
        "is_data= True\n",
        "print(type(Name))\n",
        "print(type(Age))\n",
        "print(type(Fav_Number))\n",
        "print(type(is_data))\n"
      ],
      "metadata": {
        "colab": {
          "base_uri": "https://localhost:8080/"
        },
        "id": "l1UMah9zGvqM",
        "outputId": "6478d79d-3720-4580-bca6-40d3fd7f5314"
      },
      "execution_count": 13,
      "outputs": [
        {
          "output_type": "stream",
          "name": "stdout",
          "text": [
            "<class 'str'>\n",
            "<class 'int'>\n",
            "<class 'float'>\n",
            "<class 'bool'>\n"
          ]
        }
      ]
    },
    {
      "cell_type": "code",
      "source": [
        "#Task 2.3\n",
        "L= 7\n",
        "W= 5\n",
        "Area= L*W #area = Length x Width = L*W\n",
        "print(Area)\n",
        "Perimeter = 2*(L+W)\n",
        "print(Perimeter)"
      ],
      "metadata": {
        "colab": {
          "base_uri": "https://localhost:8080/"
        },
        "id": "s9G6II0yRjoR",
        "outputId": "39a688ce-c000-4948-d660-fd9126fff641"
      },
      "execution_count": 19,
      "outputs": [
        {
          "output_type": "stream",
          "name": "stdout",
          "text": [
            "35\n",
            "24\n"
          ]
        }
      ]
    },
    {
      "cell_type": "code",
      "source": [],
      "metadata": {
        "id": "gOOlCcSjTSSK"
      },
      "execution_count": null,
      "outputs": []
    }
  ]
}