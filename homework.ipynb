{
  "nbformat": 4,
  "nbformat_minor": 0,
  "metadata": {
    "colab": {
      "provenance": [],
      "authorship_tag": "ABX9TyMbFRq1rIt3sKq7IsS17nPR",
      "include_colab_link": true
    },
    "kernelspec": {
      "name": "python3",
      "display_name": "Python 3"
    },
    "language_info": {
      "name": "python"
    }
  },
  "cells": [
    {
      "cell_type": "markdown",
      "metadata": {
        "id": "view-in-github",
        "colab_type": "text"
      },
      "source": [
        "<a href=\"https://colab.research.google.com/github/prattayabsmrstu/skill_morph/blob/homework/homework.ipynb\" target=\"_parent\"><img src=\"https://colab.research.google.com/assets/colab-badge.svg\" alt=\"Open In Colab\"/></a>"
      ]
    },
    {
      "cell_type": "code",
      "execution_count": 3,
      "metadata": {
        "colab": {
          "base_uri": "https://localhost:8080/"
        },
        "id": "Z130Hd4aE0gl",
        "outputId": "e22ea51c-7d17-4c6c-f8b8-c121c0367e7b"
      },
      "outputs": [
        {
          "output_type": "stream",
          "name": "stdout",
          "text": [
            "hello world\n"
          ]
        }
      ],
      "source": [
        "print(\"hello world\")"
      ]
    },
    {
      "cell_type": "code",
      "source": [
        "#Task 2.1\n",
        "Name= \"Prattaya Chakrabortty\"\n",
        "Age= 29\n",
        "Favourite_Colour= \"Light Green\"\n",
        "print(\"Name:\", Name)\n",
        "print(\"Age:\", Age)\n",
        "print(\"Favourite Colour:\", Favourite_Colour)"
      ],
      "metadata": {
        "colab": {
          "base_uri": "https://localhost:8080/"
        },
        "id": "UE2KS8GGFnnn",
        "outputId": "2325aeeb-2939-4059-8f6e-c85cac762ff7"
      },
      "execution_count": 8,
      "outputs": [
        {
          "output_type": "stream",
          "name": "stdout",
          "text": [
            "Name: Prattaya Chakrabortty\n",
            "Age: 29\n",
            "Favourite Colour: Light Green\n"
          ]
        }
      ]
    },
    {
      "cell_type": "code",
      "source": [],
      "metadata": {
        "id": "l1UMah9zGvqM"
      },
      "execution_count": null,
      "outputs": []
    }
  ]
}