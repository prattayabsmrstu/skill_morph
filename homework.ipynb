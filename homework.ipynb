{
  "nbformat": 4,
  "nbformat_minor": 0,
  "metadata": {
    "colab": {
      "provenance": [],
      "gpuType": "T4",
      "include_colab_link": true
    },
    "kernelspec": {
      "name": "python3",
      "display_name": "Python 3"
    },
    "language_info": {
      "name": "python"
    },
    "accelerator": "GPU"
  },
  "cells": [
    {
      "cell_type": "markdown",
      "metadata": {
        "id": "view-in-github",
        "colab_type": "text"
      },
      "source": [
        "<a href=\"https://colab.research.google.com/github/prattayabsmrstu/skill_morph/blob/homework/homework.ipynb\" target=\"_parent\"><img src=\"https://colab.research.google.com/assets/colab-badge.svg\" alt=\"Open In Colab\"/></a>"
      ]
    },
    {
      "cell_type": "code",
      "execution_count": null,
      "metadata": {
        "colab": {
          "base_uri": "https://localhost:8080/"
        },
        "id": "Z130Hd4aE0gl",
        "outputId": "bb037880-da56-4b45-f716-4f2c208d2cd2"
      },
      "outputs": [
        {
          "output_type": "stream",
          "name": "stdout",
          "text": [
            "hello world\n"
          ]
        }
      ],
      "source": [
        "print(\"hello world\")"
      ]
    },
    {
      "cell_type": "code",
      "source": [
        "#Task 2.1\n",
        "Name= \"Prattaya Chakrabortty\"\n",
        "Age= 29\n",
        "Favourite_Colour= \"Light Green\"\n",
        "print(\"Name:\", Name)\n",
        "print(\"Age:\", Age)\n",
        "print(\"Favourite Colour:\", Favourite_Colour)"
      ],
      "metadata": {
        "colab": {
          "base_uri": "https://localhost:8080/"
        },
        "id": "UE2KS8GGFnnn",
        "outputId": "806cbc02-923c-42c5-ea1c-80a5b7a95a5c"
      },
      "execution_count": null,
      "outputs": [
        {
          "output_type": "stream",
          "name": "stdout",
          "text": [
            "Name: Prattaya Chakrabortty\n",
            "Age: 29\n",
            "Favourite Colour: Light Green\n"
          ]
        }
      ]
    },
    {
      "cell_type": "code",
      "source": [
        "#Task 2.2\n",
        "Name= \"Prattaya\"\n",
        "Age= 29\n",
        "Fav_Number= 3.1416\n",
        "is_data= True\n",
        "#type command will show what kind of data variable is containing\n",
        "print(type(Name))\n",
        "print(type(Age))\n",
        "print(type(Fav_Number))\n",
        "print(type(is_data))\n"
      ],
      "metadata": {
        "colab": {
          "base_uri": "https://localhost:8080/"
        },
        "id": "l1UMah9zGvqM",
        "outputId": "734f21bd-5ead-4df7-9a4a-478f5cba97b3"
      },
      "execution_count": null,
      "outputs": [
        {
          "output_type": "stream",
          "name": "stdout",
          "text": [
            "<class 'str'>\n",
            "<class 'int'>\n",
            "<class 'float'>\n",
            "<class 'bool'>\n"
          ]
        }
      ]
    },
    {
      "cell_type": "code",
      "source": [
        "#Task 2.3\n",
        "L= 7\n",
        "W= 5\n",
        "Area= L*W #area = Length x Width = L*W\n",
        "print(Area)\n",
        "Perimeter = 2*(L+W) #perimeter = 2 x (Length + Width) = 2*(L+W)\n",
        "print(Perimeter)"
      ],
      "metadata": {
        "colab": {
          "base_uri": "https://localhost:8080/"
        },
        "id": "s9G6II0yRjoR",
        "outputId": "2607f61f-83a7-4d5e-b7d5-d7e436eb2bb4"
      },
      "execution_count": null,
      "outputs": [
        {
          "output_type": "stream",
          "name": "stdout",
          "text": [
            "35\n",
            "24\n"
          ]
        }
      ]
    },
    {
      "cell_type": "code",
      "source": [
        "#Task 2.4\n",
        "bd_food= [\"rice\", \"fish curry\", \"rooti\", \"meat curry\", \"Smashed Poato\"]\n",
        "print(bd_food)\n",
        "print(bd_food[0])\n",
        "print(bd_food[4])"
      ],
      "metadata": {
        "colab": {
          "base_uri": "https://localhost:8080/"
        },
        "id": "gOOlCcSjTSSK",
        "outputId": "5e80423d-29d0-4c28-a20a-118c5cd292b1"
      },
      "execution_count": null,
      "outputs": [
        {
          "output_type": "stream",
          "name": "stdout",
          "text": [
            "['rice', 'fish curry', 'rooti', 'meat curry', 'Smashed Poato']\n",
            "rice\n",
            "Smashed Poato\n"
          ]
        }
      ]
    },
    {
      "cell_type": "code",
      "source": [],
      "metadata": {
        "id": "yHYQ8DTnU9VN"
      },
      "execution_count": null,
      "outputs": []
    }
  ]
}