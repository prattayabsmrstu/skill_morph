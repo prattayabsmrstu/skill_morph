{
  "nbformat": 4,
  "nbformat_minor": 0,
  "metadata": {
    "colab": {
      "provenance": [],
      "gpuType": "T4",
      "authorship_tag": "ABX9TyMXKkpkp9RHIJ8raw+nciBD",
      "include_colab_link": true
    },
    "kernelspec": {
      "name": "python3",
      "display_name": "Python 3"
    },
    "language_info": {
      "name": "python"
    },
    "accelerator": "GPU"
  },
  "cells": [
    {
      "cell_type": "markdown",
      "metadata": {
        "id": "view-in-github",
        "colab_type": "text"
      },
      "source": [
        "<a href=\"https://colab.research.google.com/github/prattayabsmrstu/skill_morph/blob/homework/homework.ipynb\" target=\"_parent\"><img src=\"https://colab.research.google.com/assets/colab-badge.svg\" alt=\"Open In Colab\"/></a>"
      ]
    },
    {
      "cell_type": "code",
      "execution_count": 1,
      "metadata": {
        "colab": {
          "base_uri": "https://localhost:8080/"
        },
        "id": "Z130Hd4aE0gl",
        "outputId": "bc3c04ac-8fed-49b9-9926-4013f761ab3d"
      },
      "outputs": [
        {
          "output_type": "stream",
          "name": "stdout",
          "text": [
            "hello world\n"
          ]
        }
      ],
      "source": [
        "print(\"hello world\")"
      ]
    },
    {
      "cell_type": "code",
      "source": [
        "#Task 2.1\n",
        "Name= \"Prattaya Chakrabortty\"\n",
        "Age= 29\n",
        "Favourite_Colour= \"Light Green\"\n",
        "print(\"Name:\", Name)\n",
        "print(\"Age:\", Age)\n",
        "print(\"Favourite Colour:\", Favourite_Colour)"
      ],
      "metadata": {
        "colab": {
          "base_uri": "https://localhost:8080/"
        },
        "id": "UE2KS8GGFnnn",
        "outputId": "d6db2118-1dd3-4bc9-bb3b-fc27df1adf9c"
      },
      "execution_count": 2,
      "outputs": [
        {
          "output_type": "stream",
          "name": "stdout",
          "text": [
            "Name: Prattaya Chakrabortty\n",
            "Age: 29\n",
            "Favourite Colour: Light Green\n"
          ]
        }
      ]
    },
    {
      "cell_type": "code",
      "source": [
        "#Task 2.2\n",
        "Name= \"Prattaya\"\n",
        "Age= 29\n",
        "Fav_Number= 3.1416\n",
        "is_data= True\n",
        "#type command will show what kind of data variable is containing\n",
        "print(type(Name))\n",
        "print(type(Age))\n",
        "print(type(Fav_Number))\n",
        "print(type(is_data))\n"
      ],
      "metadata": {
        "colab": {
          "base_uri": "https://localhost:8080/"
        },
        "id": "l1UMah9zGvqM",
        "outputId": "23acfc27-ed4a-4359-d3ce-6b034b4489d2"
      },
      "execution_count": 3,
      "outputs": [
        {
          "output_type": "stream",
          "name": "stdout",
          "text": [
            "<class 'str'>\n",
            "<class 'int'>\n",
            "<class 'float'>\n",
            "<class 'bool'>\n"
          ]
        }
      ]
    },
    {
      "cell_type": "code",
      "source": [
        "#Task 2.3\n",
        "L= 7\n",
        "W= 5\n",
        "Area= L*W #area = Length x Width = L*W\n",
        "print(Area)\n",
        "Perimeter = 2*(L+W) #perimeter = 2 x (Length + Width) = 2*(L+W)\n",
        "print(Perimeter)"
      ],
      "metadata": {
        "colab": {
          "base_uri": "https://localhost:8080/"
        },
        "id": "s9G6II0yRjoR",
        "outputId": "23ec6956-a640-40e9-dfde-5fcc6decec1b"
      },
      "execution_count": 4,
      "outputs": [
        {
          "output_type": "stream",
          "name": "stdout",
          "text": [
            "35\n",
            "24\n"
          ]
        }
      ]
    },
    {
      "cell_type": "code",
      "source": [
        "#Task 2.4\n",
        "bd_food= [\"rice\", \"fish curry\", \"rooti\", \"meat curry\", \"Smashed Poato\"]\n",
        "print(bd_food)\n",
        "print(bd_food[0])\n",
        "print(bd_food[4])"
      ],
      "metadata": {
        "colab": {
          "base_uri": "https://localhost:8080/"
        },
        "id": "gOOlCcSjTSSK",
        "outputId": "8239b99a-363d-4cd8-93fe-ed876615859f"
      },
      "execution_count": 11,
      "outputs": [
        {
          "output_type": "stream",
          "name": "stdout",
          "text": [
            "['rice', 'fish curry', 'rooti', 'meat curry', 'Smashed Poato']\n",
            "rice\n",
            "Smashed Poato\n"
          ]
        }
      ]
    },
    {
      "cell_type": "code",
      "source": [],
      "metadata": {
        "id": "yHYQ8DTnU9VN"
      },
      "execution_count": null,
      "outputs": []
    }
  ]
}